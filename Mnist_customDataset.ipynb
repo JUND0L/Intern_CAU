{
  "nbformat": 4,
  "nbformat_minor": 0,
  "metadata": {
    "colab": {
      "provenance": [],
      "authorship_tag": "ABX9TyOKVddUt1cxiA1dvAG84dJn",
      "include_colab_link": true
    },
    "kernelspec": {
      "name": "python3",
      "display_name": "Python 3"
    },
    "language_info": {
      "name": "python"
    }
  },
  "cells": [
    {
      "cell_type": "markdown",
      "metadata": {
        "id": "view-in-github",
        "colab_type": "text"
      },
      "source": [
        "<a href=\"https://colab.research.google.com/github/JUND0L/Intern_CAU/blob/main/Mnist_customDataset.ipynb\" target=\"_parent\"><img src=\"https://colab.research.google.com/assets/colab-badge.svg\" alt=\"Open In Colab\"/></a>"
      ]
    },
    {
      "cell_type": "code",
      "execution_count": null,
      "metadata": {
        "id": "YUHWj5KDoACN"
      },
      "outputs": [],
      "source": [
        "import torch\n",
        "from torch.utils.data import Dataset, DataLoader\n",
        "from torchvision import transforms, datasets\n",
        "import matplotlib.pyplot as plt\n",
        "\n",
        "# 데이터셋 클래스를 정의.\n",
        "class CustomMNISTDataset(Dataset):\n",
        "    def __init__(self, mnist_dataset):\n",
        "        self.mnist_dataset = mnist_dataset\n",
        "\n",
        "    def __len__(self):\n",
        "        # 데이터셋의 길이(데이터의 총 개수)를 반환합니다.\n",
        "        return len(self.mnist_dataset)\n",
        "\n",
        "    def __getitem__(self, idx):\n",
        "        # idx 인덱스에 해당하는 데이터를 mnist_dataset에서 가져옵니다.\n",
        "        image, label = self.mnist_dataset[idx]\n",
        "        return image, label\n",
        "\n",
        "# transform을 정의합니다.\n",
        "transform = transforms.Compose([\n",
        "    transforms.ToTensor(), # 이미지를 PyTorch 텐서로 변환합니다.\n",
        "    transforms.Normalize((0.5,), (0.5,)) # 이미지의 픽셀 값을 정규화합니다.\n",
        "])\n",
        "\n",
        "# MNIST 데이터셋을 load.\n",
        "mnist_train = datasets.MNIST(root='./data', train=True, download=True, transform=transform)\n",
        "\n",
        "# 커스텀 데이터셋 객체를 생성.\n",
        "custom_mnist_dataset = CustomMNISTDataset(mnist_train)\n",
        "\n",
        "# 배치 크기 64로 지정.\n",
        "data_loader = DataLoader(custom_mnist_dataset, batch_size=64, shuffle=True)\n",
        "\n",
        "# 데이터 로더에서 첫 번째 배치를 가져옵니다.\n",
        "images, labels = next(iter(data_loader))\n",
        "\n",
        "# 첫 번째 이미지를 출력합니다.\n",
        "plt.imshow(images[0].squeeze(), cmap='gray') # 이미지의 차원을 줄이고(gray scale), 출력합니다.\n",
        "plt.show()\n"
      ]
    },
    {
      "cell_type": "code",
      "source": [],
      "metadata": {
        "id": "TqI_duapoAyt"
      },
      "execution_count": null,
      "outputs": []
    }
  ]
}