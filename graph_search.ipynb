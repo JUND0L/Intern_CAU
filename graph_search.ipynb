{
  "nbformat": 4,
  "nbformat_minor": 0,
  "metadata": {
    "colab": {
      "provenance": [],
      "include_colab_link": true
    },
    "kernelspec": {
      "name": "python3",
      "display_name": "Python 3"
    },
    "language_info": {
      "name": "python"
    }
  },
  "cells": [
    {
      "cell_type": "markdown",
      "metadata": {
        "id": "view-in-github",
        "colab_type": "text"
      },
      "source": [
        "<a href=\"https://colab.research.google.com/github/JUND0L/Intern_CAU/blob/main/graph_search.ipynb\" target=\"_parent\"><img src=\"https://colab.research.google.com/assets/colab-badge.svg\" alt=\"Open In Colab\"/></a>"
      ]
    },
    {
      "cell_type": "code",
      "execution_count": 8,
      "metadata": {
        "id": "5TP_S1wpRExr"
      },
      "outputs": [],
      "source": [
        "class Node:\n",
        "  def __init__(self, data):\n",
        "    self.data = data\n",
        "    self.check = False\n",
        "    self.neighbors = list()\n",
        "\n",
        "  def __str__(self):\n",
        "    return self.data\n",
        "\n",
        "  def add_neigbor(self, neighbor):\n",
        "    self.neighbors.append(neighbor)"
      ]
    },
    {
      "cell_type": "code",
      "source": [
        "class Queue:\n",
        "  def __init__(self):\n",
        "    self.items = list()\n",
        "\n",
        "  def __str__(self):\n",
        "    return self.items\n",
        "\n",
        "  def enqueue(self, new_node):\n",
        "    self.items.append(new_node)\n",
        "\n",
        "  def dequeue(self):\n",
        "    return self.items.pop(0)\n",
        "\n",
        "  def get_size(self):\n",
        "    return len(self.items)"
      ],
      "metadata": {
        "id": "otUNBae2UPzD"
      },
      "execution_count": 9,
      "outputs": []
    },
    {
      "cell_type": "code",
      "source": [
        "class Graph:\n",
        "  def __init__(self):\n",
        "    self.nodes = dict()\n",
        "\n",
        "  def __str__(self):\n",
        "    msg = ''\n",
        "    for key in self.nodes:\n",
        "      node = self.nodes[key]\n",
        "      msg += node.data + ': '\n",
        "      for neighbor in node.neighbors:\n",
        "        msg += neighbor.data + ' '\n",
        "      msg += '\\n'\n",
        "    if msg != '':\n",
        "      msg = msg[:len(msg)-1]\n",
        "    return msg\n",
        "\n",
        "  def insert_info(self, data_pair):\n",
        "    data_i = data_pair[0]\n",
        "    data_j = data_pair[1]\n",
        "\n",
        "    node_i = self.get_node(data_i)\n",
        "    node_j = self.get_node(data_j)\n",
        "\n",
        "    node_i.add_neigbor(node_j)\n",
        "    node_j.add_neigbor(node_i)\n",
        "\n",
        "  def get_node(self, data):\n",
        "    if data not in self.nodes:\n",
        "      node = Node(data)\n",
        "      self.nodes[data] = node\n",
        "    return self.nodes[data]\n",
        "\n",
        "  def bfs(self, start_data):\n",
        "    if start_data not in self.nodes:\n",
        "      print(f'there is no such a node with  {start_data}', end='')\n",
        "    else:\n",
        "      start_node = self.nodes[start_data]\n",
        "      for key in self.nodes:\n",
        "        self.nodes[key].check = False\n",
        "\n",
        "      # Do something\n",
        "      ...\n",
        "\n",
        "  def dfs(self, start_data):\n",
        "    if start_data not in self.nodes:\n",
        "      print(f'there is no such a node with {start_data}', end='')\n",
        "    else:\n",
        "      start_node = self.nodes[start_data]\n",
        "      for key in self.nodes:\n",
        "        self.nodes[key].check = False\n",
        "      self.drill(start_node)\n",
        "\n",
        "  def drill(self, node):\n",
        "    # Do something\n",
        "    ..."
      ],
      "metadata": {
        "id": "ozZMu4IfVEI6"
      },
      "execution_count": null,
      "outputs": []
    },
    {
      "cell_type": "code",
      "source": [
        "class Node:\n",
        "    def __init__(self, data):\n",
        "        self.data = data\n",
        "        self.neighbors = []\n",
        "        self.check = False\n",
        "\n",
        "    def add_neigbor(self, neighbor_node):\n",
        "        self.neighbors.append(neighbor_node)\n",
        "\n",
        "class Graph:\n",
        "    def __init__(self):\n",
        "        self.nodes = dict()\n",
        "\n",
        "    def __str__(self):\n",
        "        msg = ''\n",
        "        for key in self.nodes:\n",
        "            node = self.nodes[key]\n",
        "            msg += node.data + ': '\n",
        "            for neighbor in node.neighbors:\n",
        "                msg += neighbor.data + ' '\n",
        "            msg += '\\n'\n",
        "        if msg != '':\n",
        "            msg = msg[:len(msg)-1]\n",
        "        return msg\n",
        "\n",
        "    def insert_info(self, data_pair):\n",
        "        data_i = data_pair[0]\n",
        "        data_j = data_pair[1]\n",
        "\n",
        "        node_i = self.get_node(data_i)\n",
        "        node_j = self.get_node(data_j)\n",
        "\n",
        "        node_i.add_neigbor(node_j)\n",
        "        node_j.add_neigbor(node_i)\n",
        "\n",
        "    def get_node(self, data):\n",
        "        if data not in self.nodes:\n",
        "            node = Node(data)\n",
        "            self.nodes[data] = node\n",
        "        return self.nodes[data]\n",
        "\n",
        "    def bfs(self, start_data):\n",
        "        if start_data not in self.nodes:\n",
        "            print(f'there is no such a node with {start_data}', end='')\n",
        "        else:\n",
        "            start_node = self.nodes[start_data]\n",
        "            for key in self.nodes:\n",
        "                self.nodes[key].check = False\n",
        "\n",
        "            queue = []\n",
        "            queue.append(start_node)\n",
        "            start_node.check = True\n",
        "\n",
        "            while queue:\n",
        "                current_node = queue.pop(0)\n",
        "                print(current_node.data, end=' ')\n",
        "\n",
        "                for neighbor in current_node.neighbors:\n",
        "                    if not neighbor.check:\n",
        "                        queue.append(neighbor)\n",
        "                        neighbor.check = True\n",
        "\n",
        "    def dfs(self, start_data):\n",
        "        if start_data not in self.nodes:\n",
        "            print(f'there is no such a node with {start_data}', end='')\n",
        "        else:\n",
        "            start_node = self.nodes[start_data]\n",
        "            for key in self.nodes:\n",
        "                self.nodes[key].check = False\n",
        "            self.drill(start_node)\n",
        "\n",
        "    def drill(self, node):\n",
        "      # Do something\n",
        "      ..."
      ],
      "metadata": {
        "id": "9EPUxb_efINp"
      },
      "execution_count": 15,
      "outputs": []
    },
    {
      "cell_type": "code",
      "source": [
        "# prompt: 어떤 Strart node 가 가장 짧은 step 만에 퍼져나가는지 계산하는코드를 짜줘\n",
        "\n",
        "class Node:\n",
        "    def __init__(self, data):\n",
        "        self.data = data\n",
        "        self.neighbors = []\n",
        "        self.check = False\n",
        "        self.distance = float('inf')\n",
        "\n",
        "    def add_neigbor(self, neighbor_node):\n",
        "        self.neighbors.append(neighbor_node)\n",
        "\n",
        "class Graph:\n",
        "    def __init__(self):\n",
        "        self.nodes = dict()\n",
        "\n",
        "    def __str__(self):\n",
        "        msg = ''\n",
        "        for key in self.nodes:\n",
        "            node = self.nodes[key]\n",
        "            msg += node.data + ': '\n",
        "            for neighbor in node.neighbors:\n",
        "                msg += neighbor.data + ' '\n",
        "            msg += '\\n'\n",
        "        if msg != '':\n",
        "            msg = msg[:len(msg)-1]\n",
        "        return msg\n",
        "\n",
        "    def insert_info(self, data_pair):\n",
        "        data_i = data_pair[0]\n",
        "        data_j = data_pair[1]\n",
        "\n",
        "        node_i = self.get_node(data_i)\n",
        "        node_j = self.get_node(data_j)\n",
        "\n",
        "        node_i.add_neigbor(node_j)\n",
        "        node_j.add_neigbor(node_i)\n",
        "\n",
        "    def get_node(self, data):\n",
        "        if data not in self.nodes:\n",
        "            node = Node(data)\n",
        "            self.nodes[data] = node\n",
        "        return self.nodes[data]\n",
        "\n",
        "    def bfs(self, start_data):\n",
        "        if start_data not in self.nodes:\n",
        "            print(f'there is no such a node with {start_data}', end='')\n",
        "        else:\n",
        "            start_node = self.nodes[start_data]\n",
        "            for key in self.nodes:\n",
        "                self.nodes[key].check = False\n",
        "                self.nodes[key].distance = float('inf')\n",
        "\n",
        "            queue = []\n",
        "            queue.append(start_node)\n",
        "            start_node.check = True\n",
        "            start_node.distance = 0\n",
        "\n",
        "            while queue:\n",
        "                current_node = queue.pop(0)\n",
        "                print(current_node.data, end=' ')\n",
        "\n",
        "                for neighbor in current_node.neighbors:\n",
        "                    if not neighbor.check:\n",
        "                        queue.append(neighbor)\n",
        "                        neighbor.check = True\n",
        "                        neighbor.distance = current_node.distance + 1\n",
        "\n",
        "    def dfs(self, start_data):\n",
        "        if start_data not in self.nodes:\n",
        "            print(f'there is no such a node with {start_data}', end='')\n",
        "        else:\n",
        "            start_node = self.nodes[start_data]\n",
        "            for key in self.nodes:\n",
        "                self.nodes[key].check = False\n",
        "            self.drill(start_node)\n",
        "\n",
        "    def drill(self, node):\n",
        "      node.check = True\n",
        "      print(node.data, end=' ')\n",
        "\n",
        "      for neighbor in node.neighbors:\n",
        "          if not neighbor.check:\n",
        "              self.drill(neighbor)\n",
        "\n",
        "    def get_shortest_path(self, start_data):\n",
        "        self.bfs(start_data)\n",
        "\n",
        "        shortest_path = float('inf')\n",
        "        shortest_node = None\n",
        "\n",
        "        for node in self.nodes.values():\n",
        "            if node.distance < shortest_path:\n",
        "                shortest_path = node.distance\n",
        "                shortest_node = node\n",
        "\n",
        "        return shortest_node"
      ],
      "metadata": {
        "id": "QHNfqfROkmMq"
      },
      "execution_count": 26,
      "outputs": []
    },
    {
      "cell_type": "code",
      "source": [
        "graph = Graph()\n",
        "data_pairs = [('A', 'B'), ('A', 'I'), ('I', 'C'), ('I', 'G'),\n",
        "              ('C', 'D'), ('C', 'E'), ('C', 'F'),\n",
        "              ('G', 'F'), ('G', 'H'), ('E', 'H')]\n",
        "for data_pair in data_pairs:\n",
        "  graph.insert_info(data_pair)\n",
        "print(graph)"
      ],
      "metadata": {
        "id": "ufx09PaNRJqV",
        "colab": {
          "base_uri": "https://localhost:8080/"
        },
        "outputId": "0485f0c2-9654-4c8d-b52f-368792c5810d"
      },
      "execution_count": 27,
      "outputs": [
        {
          "output_type": "stream",
          "name": "stdout",
          "text": [
            "A: B I \n",
            "B: A \n",
            "I: A C G \n",
            "C: I D E F \n",
            "G: I F H \n",
            "D: C \n",
            "E: C H \n",
            "F: C G \n",
            "H: G E \n"
          ]
        }
      ]
    },
    {
      "cell_type": "code",
      "source": [
        "print('Start with X: ', end='')\n",
        "graph.bfs('X')\n",
        "\n",
        "print('\\nStart with A: ', end='')\n",
        "graph.bfs('A')\n",
        "\n",
        "print('\\nStart with C: ', end='')\n",
        "graph.bfs('C')\n",
        "\n",
        "print('\\nStart with E: ', end='')\n",
        "graph.bfs('E')"
      ],
      "metadata": {
        "id": "L95RHQhRe0gU",
        "colab": {
          "base_uri": "https://localhost:8080/"
        },
        "outputId": "2821b922-ef22-4cbe-882a-58d580bcbcb0"
      },
      "execution_count": 28,
      "outputs": [
        {
          "output_type": "stream",
          "name": "stdout",
          "text": [
            "Start with X: there is no such a node with X\n",
            "Start with A: A B I C G D E F H \n",
            "Start with C: C I D E F A G H B \n",
            "Start with E: E C H I D F G A B "
          ]
        }
      ]
    },
    {
      "cell_type": "code",
      "source": [
        "print('Start with X: ', end='')\n",
        "graph.dfs('X')\n",
        "\n",
        "print('\\nStart with A: ', end='')\n",
        "graph.dfs('A')"
      ],
      "metadata": {
        "id": "xy0Wf03JRC64",
        "colab": {
          "base_uri": "https://localhost:8080/"
        },
        "outputId": "c629b290-f265-4b05-f438-1fb9faecb0e0"
      },
      "execution_count": 29,
      "outputs": [
        {
          "output_type": "stream",
          "name": "stdout",
          "text": [
            "Start with X: there is no such a node with X\n",
            "Start with A: A B I C D E H G F "
          ]
        }
      ]
    },
    {
      "cell_type": "code",
      "source": [],
      "metadata": {
        "id": "6kJDA_zqhueX"
      },
      "execution_count": null,
      "outputs": []
    }
  ]
}